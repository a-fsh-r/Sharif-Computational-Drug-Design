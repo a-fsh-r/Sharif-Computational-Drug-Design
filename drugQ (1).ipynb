{
  "nbformat": 4,
  "nbformat_minor": 0,
  "metadata": {
    "colab": {
      "provenance": []
    },
    "kernelspec": {
      "name": "python3",
      "display_name": "Python 3"
    },
    "language_info": {
      "name": "python"
    }
  },
  "cells": [
    {
      "cell_type": "code",
      "source": [
        "!pip install chembl_webresource_client"
      ],
      "metadata": {
        "id": "Ktu9H8ZRenwR",
        "colab": {
          "base_uri": "https://localhost:8080/"
        },
        "outputId": "7262e9f6-e5f0-42c8-be3a-605bba7a5aff"
      },
      "execution_count": 1,
      "outputs": [
        {
          "output_type": "stream",
          "name": "stdout",
          "text": [
            "Looking in indexes: https://pypi.org/simple, https://us-python.pkg.dev/colab-wheels/public/simple/\n",
            "Collecting chembl_webresource_client\n",
            "  Downloading chembl_webresource_client-0.10.8-py3-none-any.whl (55 kB)\n",
            "\u001b[K     |████████████████████████████████| 55 kB 2.1 MB/s \n",
            "\u001b[?25hCollecting requests-cache~=0.7.0\n",
            "  Downloading requests_cache-0.7.5-py3-none-any.whl (39 kB)\n",
            "Requirement already satisfied: easydict in /usr/local/lib/python3.8/dist-packages (from chembl_webresource_client) (1.10)\n",
            "Requirement already satisfied: requests>=2.18.4 in /usr/local/lib/python3.8/dist-packages (from chembl_webresource_client) (2.23.0)\n",
            "Requirement already satisfied: urllib3 in /usr/local/lib/python3.8/dist-packages (from chembl_webresource_client) (1.24.3)\n",
            "Requirement already satisfied: idna<3,>=2.5 in /usr/local/lib/python3.8/dist-packages (from requests>=2.18.4->chembl_webresource_client) (2.10)\n",
            "Requirement already satisfied: chardet<4,>=3.0.2 in /usr/local/lib/python3.8/dist-packages (from requests>=2.18.4->chembl_webresource_client) (3.0.4)\n",
            "Requirement already satisfied: certifi>=2017.4.17 in /usr/local/lib/python3.8/dist-packages (from requests>=2.18.4->chembl_webresource_client) (2022.12.7)\n",
            "Collecting itsdangerous>=2.0.1\n",
            "  Downloading itsdangerous-2.1.2-py3-none-any.whl (15 kB)\n",
            "Collecting attrs<22.0,>=21.2\n",
            "  Downloading attrs-21.4.0-py2.py3-none-any.whl (60 kB)\n",
            "\u001b[K     |████████████████████████████████| 60 kB 6.9 MB/s \n",
            "\u001b[?25hCollecting url-normalize<2.0,>=1.4\n",
            "  Downloading url_normalize-1.4.3-py2.py3-none-any.whl (6.8 kB)\n",
            "Requirement already satisfied: pyyaml>=5.4 in /usr/local/lib/python3.8/dist-packages (from requests-cache~=0.7.0->chembl_webresource_client) (6.0)\n",
            "Requirement already satisfied: six in /usr/local/lib/python3.8/dist-packages (from url-normalize<2.0,>=1.4->requests-cache~=0.7.0->chembl_webresource_client) (1.15.0)\n",
            "Installing collected packages: url-normalize, itsdangerous, attrs, requests-cache, chembl-webresource-client\n",
            "  Attempting uninstall: itsdangerous\n",
            "    Found existing installation: itsdangerous 1.1.0\n",
            "    Uninstalling itsdangerous-1.1.0:\n",
            "      Successfully uninstalled itsdangerous-1.1.0\n",
            "  Attempting uninstall: attrs\n",
            "    Found existing installation: attrs 22.1.0\n",
            "    Uninstalling attrs-22.1.0:\n",
            "      Successfully uninstalled attrs-22.1.0\n",
            "\u001b[31mERROR: pip's dependency resolver does not currently take into account all the packages that are installed. This behaviour is the source of the following dependency conflicts.\n",
            "flask 1.1.4 requires itsdangerous<2.0,>=0.24, but you have itsdangerous 2.1.2 which is incompatible.\u001b[0m\n",
            "Successfully installed attrs-21.4.0 chembl-webresource-client-0.10.8 itsdangerous-2.1.2 requests-cache-0.7.5 url-normalize-1.4.3\n"
          ]
        }
      ]
    },
    {
      "cell_type": "code",
      "source": [
        "from chembl_webresource_client.new_client import new_client\n",
        "import numpy as np\n",
        "drug = new_client.drug\n",
        "d0 = drug.filter(withdrawn_reason__isnull= False).only([ 'withdrawn_year' ,'first_approval'])"
      ],
      "metadata": {
        "id": "5hbyrBsd5Cxz"
      },
      "execution_count": 86,
      "outputs": []
    },
    {
      "cell_type": "code",
      "source": [
        "import pandas as pd\n",
        "d0 = pd.DataFrame(d0)\n",
        "d0=d0.dropna(subset=['withdrawn_year', 'first_approval'])\n",
        "print(d0)"
      ],
      "metadata": {
        "colab": {
          "base_uri": "https://localhost:8080/"
        },
        "id": "FnB_Vb6c5JJj",
        "outputId": "2ddd2c43-6d1a-482d-c7f6-520da602bd97"
      },
      "execution_count": 88,
      "outputs": [
        {
          "output_type": "stream",
          "name": "stdout",
          "text": [
            "    applicants atc_code_description  first_approval research_codes synonyms  \\\n",
            "0         None                 None          1997.0           None     None   \n",
            "1         None                 None          1999.0           None     None   \n",
            "4         None                 None          1950.0           None     None   \n",
            "5         None                 None          1973.0           None     None   \n",
            "7         None                 None          1979.0           None     None   \n",
            "..         ...                  ...             ...            ...      ...   \n",
            "116       None                 None          1961.0           None     None   \n",
            "124       None                 None          1980.0           None     None   \n",
            "125       None                 None          1992.0           None     None   \n",
            "140       None                 None          1979.0           None     None   \n",
            "142       None                 None          2001.0           None     None   \n",
            "\n",
            "     withdrawn_year  \n",
            "0            1997.0  \n",
            "1            2006.0  \n",
            "4            1980.0  \n",
            "5            1980.0  \n",
            "7            1980.0  \n",
            "..              ...  \n",
            "116          2007.0  \n",
            "124          1987.0  \n",
            "125          1993.0  \n",
            "140          2005.0  \n",
            "142          2011.0  \n",
            "\n",
            "[67 rows x 6 columns]\n"
          ]
        }
      ]
    },
    {
      "cell_type": "markdown",
      "source": [
        "we need 'withdrawn_year' and 'first_approval'"
      ],
      "metadata": {
        "id": "P-rGTGp3-rUG"
      }
    },
    {
      "cell_type": "code",
      "source": [
        "d0.head()"
      ],
      "metadata": {
        "colab": {
          "base_uri": "https://localhost:8080/",
          "height": 206
        },
        "id": "pdpCF7Pf-sAR",
        "outputId": "0e684d38-2838-4828-dbd5-e7748ea459ca"
      },
      "execution_count": 89,
      "outputs": [
        {
          "output_type": "execute_result",
          "data": {
            "text/plain": [
              "  applicants atc_code_description  first_approval research_codes synonyms  \\\n",
              "0       None                 None          1997.0           None     None   \n",
              "1       None                 None          1999.0           None     None   \n",
              "4       None                 None          1950.0           None     None   \n",
              "5       None                 None          1973.0           None     None   \n",
              "7       None                 None          1979.0           None     None   \n",
              "\n",
              "   withdrawn_year  \n",
              "0          1997.0  \n",
              "1          2006.0  \n",
              "4          1980.0  \n",
              "5          1980.0  \n",
              "7          1980.0  "
            ],
            "text/html": [
              "\n",
              "  <div id=\"df-6ab02b7a-13ff-4c0d-9935-0bd3125f3412\">\n",
              "    <div class=\"colab-df-container\">\n",
              "      <div>\n",
              "<style scoped>\n",
              "    .dataframe tbody tr th:only-of-type {\n",
              "        vertical-align: middle;\n",
              "    }\n",
              "\n",
              "    .dataframe tbody tr th {\n",
              "        vertical-align: top;\n",
              "    }\n",
              "\n",
              "    .dataframe thead th {\n",
              "        text-align: right;\n",
              "    }\n",
              "</style>\n",
              "<table border=\"1\" class=\"dataframe\">\n",
              "  <thead>\n",
              "    <tr style=\"text-align: right;\">\n",
              "      <th></th>\n",
              "      <th>applicants</th>\n",
              "      <th>atc_code_description</th>\n",
              "      <th>first_approval</th>\n",
              "      <th>research_codes</th>\n",
              "      <th>synonyms</th>\n",
              "      <th>withdrawn_year</th>\n",
              "    </tr>\n",
              "  </thead>\n",
              "  <tbody>\n",
              "    <tr>\n",
              "      <th>0</th>\n",
              "      <td>None</td>\n",
              "      <td>None</td>\n",
              "      <td>1997.0</td>\n",
              "      <td>None</td>\n",
              "      <td>None</td>\n",
              "      <td>1997.0</td>\n",
              "    </tr>\n",
              "    <tr>\n",
              "      <th>1</th>\n",
              "      <td>None</td>\n",
              "      <td>None</td>\n",
              "      <td>1999.0</td>\n",
              "      <td>None</td>\n",
              "      <td>None</td>\n",
              "      <td>2006.0</td>\n",
              "    </tr>\n",
              "    <tr>\n",
              "      <th>4</th>\n",
              "      <td>None</td>\n",
              "      <td>None</td>\n",
              "      <td>1950.0</td>\n",
              "      <td>None</td>\n",
              "      <td>None</td>\n",
              "      <td>1980.0</td>\n",
              "    </tr>\n",
              "    <tr>\n",
              "      <th>5</th>\n",
              "      <td>None</td>\n",
              "      <td>None</td>\n",
              "      <td>1973.0</td>\n",
              "      <td>None</td>\n",
              "      <td>None</td>\n",
              "      <td>1980.0</td>\n",
              "    </tr>\n",
              "    <tr>\n",
              "      <th>7</th>\n",
              "      <td>None</td>\n",
              "      <td>None</td>\n",
              "      <td>1979.0</td>\n",
              "      <td>None</td>\n",
              "      <td>None</td>\n",
              "      <td>1980.0</td>\n",
              "    </tr>\n",
              "  </tbody>\n",
              "</table>\n",
              "</div>\n",
              "      <button class=\"colab-df-convert\" onclick=\"convertToInteractive('df-6ab02b7a-13ff-4c0d-9935-0bd3125f3412')\"\n",
              "              title=\"Convert this dataframe to an interactive table.\"\n",
              "              style=\"display:none;\">\n",
              "        \n",
              "  <svg xmlns=\"http://www.w3.org/2000/svg\" height=\"24px\"viewBox=\"0 0 24 24\"\n",
              "       width=\"24px\">\n",
              "    <path d=\"M0 0h24v24H0V0z\" fill=\"none\"/>\n",
              "    <path d=\"M18.56 5.44l.94 2.06.94-2.06 2.06-.94-2.06-.94-.94-2.06-.94 2.06-2.06.94zm-11 1L8.5 8.5l.94-2.06 2.06-.94-2.06-.94L8.5 2.5l-.94 2.06-2.06.94zm10 10l.94 2.06.94-2.06 2.06-.94-2.06-.94-.94-2.06-.94 2.06-2.06.94z\"/><path d=\"M17.41 7.96l-1.37-1.37c-.4-.4-.92-.59-1.43-.59-.52 0-1.04.2-1.43.59L10.3 9.45l-7.72 7.72c-.78.78-.78 2.05 0 2.83L4 21.41c.39.39.9.59 1.41.59.51 0 1.02-.2 1.41-.59l7.78-7.78 2.81-2.81c.8-.78.8-2.07 0-2.86zM5.41 20L4 18.59l7.72-7.72 1.47 1.35L5.41 20z\"/>\n",
              "  </svg>\n",
              "      </button>\n",
              "      \n",
              "  <style>\n",
              "    .colab-df-container {\n",
              "      display:flex;\n",
              "      flex-wrap:wrap;\n",
              "      gap: 12px;\n",
              "    }\n",
              "\n",
              "    .colab-df-convert {\n",
              "      background-color: #E8F0FE;\n",
              "      border: none;\n",
              "      border-radius: 50%;\n",
              "      cursor: pointer;\n",
              "      display: none;\n",
              "      fill: #1967D2;\n",
              "      height: 32px;\n",
              "      padding: 0 0 0 0;\n",
              "      width: 32px;\n",
              "    }\n",
              "\n",
              "    .colab-df-convert:hover {\n",
              "      background-color: #E2EBFA;\n",
              "      box-shadow: 0px 1px 2px rgba(60, 64, 67, 0.3), 0px 1px 3px 1px rgba(60, 64, 67, 0.15);\n",
              "      fill: #174EA6;\n",
              "    }\n",
              "\n",
              "    [theme=dark] .colab-df-convert {\n",
              "      background-color: #3B4455;\n",
              "      fill: #D2E3FC;\n",
              "    }\n",
              "\n",
              "    [theme=dark] .colab-df-convert:hover {\n",
              "      background-color: #434B5C;\n",
              "      box-shadow: 0px 1px 3px 1px rgba(0, 0, 0, 0.15);\n",
              "      filter: drop-shadow(0px 1px 2px rgba(0, 0, 0, 0.3));\n",
              "      fill: #FFFFFF;\n",
              "    }\n",
              "  </style>\n",
              "\n",
              "      <script>\n",
              "        const buttonEl =\n",
              "          document.querySelector('#df-6ab02b7a-13ff-4c0d-9935-0bd3125f3412 button.colab-df-convert');\n",
              "        buttonEl.style.display =\n",
              "          google.colab.kernel.accessAllowed ? 'block' : 'none';\n",
              "\n",
              "        async function convertToInteractive(key) {\n",
              "          const element = document.querySelector('#df-6ab02b7a-13ff-4c0d-9935-0bd3125f3412');\n",
              "          const dataTable =\n",
              "            await google.colab.kernel.invokeFunction('convertToInteractive',\n",
              "                                                     [key], {});\n",
              "          if (!dataTable) return;\n",
              "\n",
              "          const docLinkHtml = 'Like what you see? Visit the ' +\n",
              "            '<a target=\"_blank\" href=https://colab.research.google.com/notebooks/data_table.ipynb>data table notebook</a>'\n",
              "            + ' to learn more about interactive tables.';\n",
              "          element.innerHTML = '';\n",
              "          dataTable['output_type'] = 'display_data';\n",
              "          await google.colab.output.renderOutput(dataTable, element);\n",
              "          const docLink = document.createElement('div');\n",
              "          docLink.innerHTML = docLinkHtml;\n",
              "          element.appendChild(docLink);\n",
              "        }\n",
              "      </script>\n",
              "    </div>\n",
              "  </div>\n",
              "  "
            ]
          },
          "metadata": {},
          "execution_count": 89
        }
      ]
    },
    {
      "cell_type": "code",
      "source": [
        "l = d0['first_approval']\n",
        "l2 = d0['withdrawn_year']"
      ],
      "metadata": {
        "id": "YzuwL9bK--b9"
      },
      "execution_count": 102,
      "outputs": []
    },
    {
      "cell_type": "code",
      "source": [
        "len(l), len(l2), type(l)"
      ],
      "metadata": {
        "colab": {
          "base_uri": "https://localhost:8080/"
        },
        "id": "hfBeZ_P9CKhJ",
        "outputId": "48c16d6a-0582-4867-e1d6-2fc6fe583655"
      },
      "execution_count": 103,
      "outputs": [
        {
          "output_type": "execute_result",
          "data": {
            "text/plain": [
              "(67, 67, pandas.core.series.Series)"
            ]
          },
          "metadata": {},
          "execution_count": 103
        }
      ]
    },
    {
      "cell_type": "code",
      "source": [
        "l = [i for i in l]\n",
        "l2 = [i for i in l2]\n",
        "type(l)"
      ],
      "metadata": {
        "id": "z4cx4Yc6HuGe",
        "outputId": "6eb88e25-3285-4a84-a7dc-07d82d76f973",
        "colab": {
          "base_uri": "https://localhost:8080/"
        }
      },
      "execution_count": 106,
      "outputs": [
        {
          "output_type": "execute_result",
          "data": {
            "text/plain": [
              "list"
            ]
          },
          "metadata": {},
          "execution_count": 106
        }
      ]
    },
    {
      "cell_type": "code",
      "source": [
        "for i in range(67):\n",
        "  w = l2[i]\n",
        "  a = l[i]\n",
        "  print(w-a)"
      ],
      "metadata": {
        "id": "lDbIYo0zIDtr",
        "outputId": "0a7e92e9-68fb-4dc5-ebc5-2e35d1613ae4",
        "colab": {
          "base_uri": "https://localhost:8080/"
        }
      },
      "execution_count": 107,
      "outputs": [
        {
          "output_type": "stream",
          "name": "stdout",
          "text": [
            "0.0\n",
            "7.0\n",
            "30.0\n",
            "7.0\n",
            "1.0\n",
            "3.0\n",
            "43.0\n",
            "-9.0\n",
            "5.0\n",
            "19.0\n",
            "0.0\n",
            "2.0\n",
            "2.0\n",
            "6.0\n",
            "4.0\n",
            "2.0\n",
            "13.0\n",
            "11.0\n",
            "5.0\n",
            "3.0\n",
            "4.0\n",
            "62.0\n",
            "14.0\n",
            "3.0\n",
            "0.0\n",
            "21.0\n",
            "45.0\n",
            "5.0\n",
            "11.0\n",
            "3.0\n",
            "1.0\n",
            "2.0\n",
            "44.0\n",
            "11.0\n",
            "5.0\n",
            "8.0\n",
            "5.0\n",
            "1.0\n",
            "22.0\n",
            "0.0\n",
            "24.0\n",
            "48.0\n",
            "1.0\n",
            "0.0\n",
            "5.0\n",
            "3.0\n",
            "13.0\n",
            "4.0\n",
            "35.0\n",
            "6.0\n",
            "8.0\n",
            "7.0\n",
            "9.0\n",
            "36.0\n",
            "9.0\n",
            "-13.0\n",
            "2.0\n",
            "6.0\n",
            "10.0\n",
            "14.0\n",
            "57.0\n",
            "-13.0\n",
            "46.0\n",
            "7.0\n",
            "1.0\n",
            "26.0\n",
            "10.0\n"
          ]
        }
      ]
    },
    {
      "cell_type": "code",
      "source": [],
      "metadata": {
        "id": "BlSjMLupImeu"
      },
      "execution_count": null,
      "outputs": []
    }
  ]
}